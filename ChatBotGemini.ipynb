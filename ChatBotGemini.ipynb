{
  "nbformat": 4,
  "nbformat_minor": 0,
  "metadata": {
    "colab": {
      "provenance": [],
      "collapsed_sections": [
        "Xoq-R3HLqUoP"
      ],
      "authorship_tag": "ABX9TyOyOy8lNHYJqbUOZg/ewBit",
      "include_colab_link": true
    },
    "kernelspec": {
      "name": "python3",
      "display_name": "Python 3"
    },
    "language_info": {
      "name": "python"
    }
  },
  "cells": [
    {
      "cell_type": "markdown",
      "metadata": {
        "id": "view-in-github",
        "colab_type": "text"
      },
      "source": [
        "<a href=\"https://colab.research.google.com/github/Pedro-Baruch/DesafioAlura-Gemini/blob/main/ChatBotGemini.ipynb\" target=\"_parent\"><img src=\"https://colab.research.google.com/assets/colab-badge.svg\" alt=\"Open In Colab\"/></a>"
      ]
    },
    {
      "cell_type": "markdown",
      "source": [
        "# Inicializando o modelo"
      ],
      "metadata": {
        "id": "KmphOzuojZDY"
      }
    },
    {
      "cell_type": "code",
      "source": [
        "import google.generativeai as genai\n",
        "from google.colab import userdata\n",
        "\n",
        "GOOGLE_API_KEY = userdata.get(\"SECRETE_KEY\")\n",
        "genai.configure(api_key=GOOGLE_API_KEY)"
      ],
      "metadata": {
        "id": "cEbHHZJ-iA37"
      },
      "execution_count": 1,
      "outputs": []
    },
    {
      "cell_type": "markdown",
      "source": [
        "# Tirando os limitadores de segurança e utilizando o gemini-1.5 para melhorar compreensão e criatividade da ia."
      ],
      "metadata": {
        "id": "bVNTahloqAhq"
      }
    },
    {
      "cell_type": "code",
      "source": [
        "safety_settings={\n",
        "    'HATE': 'BLOCK_NONE',\n",
        "    'HARASSMENT': 'BLOCK_NONE',\n",
        "    'SEXUAL' : 'BLOCK_NONE',\n",
        "    'DANGEROUS' : 'BLOCK_NONE'\n",
        "}\n",
        "\n",
        "model = genai.GenerativeModel('gemini-1.5-pro-latest', safety_settings=safety_settings)"
      ],
      "metadata": {
        "id": "BltwYh0x3nNv"
      },
      "execution_count": 2,
      "outputs": []
    },
    {
      "cell_type": "markdown",
      "source": [
        "# Função que cria a descrição do universo"
      ],
      "metadata": {
        "id": "Xoq-R3HLqUoP"
      }
    },
    {
      "cell_type": "code",
      "source": [
        "def gerar_descricao_universo(cosmologia, tecnologia, magia, divindade):\n",
        "  prompt = f\"\"\"\n",
        "  Crie uma descrição de um universo que o personagem criado será inserido:\n",
        "\n",
        "  Deve ser definida a cosmologia do universo: {cosmologia}\n",
        "\n",
        "  Deve ser definido com funciona a tecnologia nesse universo: {tecnologia}\n",
        "\n",
        "  Deve ser definido a presença de magia ou não no mundo, e se tiver como ela deve funcionar: {magia}\n",
        "\n",
        "  Deve ser definido um conceito de divindade: {divindade}\n",
        "  \"\"\"\n",
        "\n",
        "  resposta = model.generate_content(prompt)\n",
        "  descricao = resposta.text\n",
        "\n",
        "  return descricao"
      ],
      "metadata": {
        "id": "PbDO6n8fcTqw"
      },
      "execution_count": 22,
      "outputs": []
    },
    {
      "cell_type": "markdown",
      "source": [
        "# Guia de como completear os valores das variáveis\n",
        "Voce pode altera-las, este é apenas um exemplo, se precisar utilize descrições mais complexas para ter resultados mais claros e siga as perguntas iniciais.\n",
        "\n",
        "* **Cosmologia**: Defina caracteristicas gerais do universo, quanto mais detalhado melhor será os resultado\n",
        "\n",
        "* **Tecnologia**: Defina um nivel de tecnolgia, algo como idade medieval ou um algo futurista por exemplo. Caso haja magia tente mostrar o relacionamento das duas.\n",
        "\n",
        "* **Magia**: Defina se magia é ou não prsente, caso seja, se é um tipo de tabu, ou algo presente em todos os seres do universo, se tem algum tipo de complexidade e como se manifesta.\n",
        "\n",
        "* **Divindade**: Caso haja uma divindade de detalhes de como ela rege o universo, se tem seguidores ou religiões dedicados a ela, caso não exista defina algum tipo de crença dos seres desse universo."
      ],
      "metadata": {
        "id": "viLA3xJshfoi"
      }
    },
    {
      "cell_type": "code",
      "source": [
        "cosmologia = \"O universo dele tem por volta de 30 bilhoes de anos, neste universo tem varios tipos de especies diferentes do conhecido no mundo real, boa parte semelhante com caracteriscas misturadas de outras especies\"\n",
        "\n",
        "tecnologia = \"Este universo possui um alto nivel de tecnologia que utiliza magia como forma de funcionamento\"\n",
        "\n",
        "magia = \"magia está presente na vida de todos, é um elemento que está presente na vida de todo os seres desse universo\"\n",
        "\n",
        "divindade = \"neste mundo não se acredita em uma divindade, para os habitante tudo é um, a vida é infinita sendo recriada em ciclos dentro dos seres\"\n",
        "\n",
        "universo = gerar_descricao_universo(cosmologia, tecnologia, magia, divindade)\n",
        "print(universo)"
      ],
      "metadata": {
        "colab": {
          "base_uri": "https://localhost:8080/",
          "height": 315
        },
        "id": "O9t3dGi_gFjg",
        "outputId": "05e3e518-1624-4c50-868a-b91b3f87daff"
      },
      "execution_count": 24,
      "outputs": [
        {
          "output_type": "stream",
          "name": "stdout",
          "text": [
            "## Um Universo de Magia e Ciclos Infinitos\n",
            "\n",
            "Imagine um universo com 30 bilhões de anos, onde a poeira estelar não apenas formou planetas, mas deu origem a uma miríade de espécies exóticas. Criaturas com características misturadas, híbridos de animais conhecidos e desconhecidos, povoam este cosmos vibrante. Aqui, a magia não é um conto de fadas, mas a própria essência da existência, entrelaçada na trama da realidade.\n",
            "\n",
            "**Tecnologia Mágica:**\n",
            "\n",
            "Esqueça circuitos e fios. Neste universo, a tecnologia avançada é alimentada pela própria magia. Artefatos encantados levitam, ferramentas respondem a comandos mentais e as viagens interestelares são possíveis através de portais mágicos que dobram o tecido do espaço-tempo. A alquimia não é apenas uma busca pela pedra filosofal, mas a base da engenharia e da medicina.\n",
            "\n",
            "**Magia Viva:**\n",
            "\n",
            "A magia permeia tudo. É a energia vital que flui através de todos os seres, conectando-os ao universo. Desde a simples tarefa de acender uma fogueira até a cura de doenças, a magia é parte integrante da vida cotidiana. Cada espécie possui uma afinidade única com diferentes tipos de magia, manifestando poderes como controlar os elementos, ler mentes ou até mesmo transformar-se em outras criaturas.\n",
            "\n",
            "**A Dança Infinita da Vida:**\n",
            "\n",
            "Neste universo, a crença em uma divindade singular é substituída por uma compreensão profunda da interconexão de todas as coisas. A vida é vista como um ciclo eterno, onde a energia flui e se transforma. A morte não é o fim, mas uma transição para uma nova forma, um novo ciclo na dança infinita da existência. Os seres renascem, suas memórias e experiências gravadas na própria essência do universo, enriquecendo a tapeçaria da vida a cada renascimento. \n",
            "\n"
          ]
        }
      ]
    },
    {
      "cell_type": "code",
      "source": [
        "def gerar_descricao_personagem(raca,habilidades,valores,motivacoes,personalidade,etnia ,genero, idade, profissao, cenario, nacionalidade, tipo_fisico, cabelo_cor, cabelo_estilo, olhos_cor ,caracteristicas_faciais, marcas_distintivas, estilo_roupa):\n",
        "  prompt = f\"\"\"\n",
        "  Crie uma descrição detalhada de um personagem com as seguintes características:\n",
        "\n",
        "  # Caracteristicas básicas\n",
        "  * Gênero: {genero}\n",
        "  * Idade: {idade} anos\n",
        "  * Profissão: {profissao}\n",
        "  * Cenário: {cenario}\n",
        "  * Nacionalidade: {nacionalidade}\n",
        "  * Raça: {raca}\n",
        "\n",
        "  # Caracteristicas da forma fisica\n",
        "  * Etnia: {etnia}\n",
        "  * Tipo físico: {tipo_fisico}\n",
        "  * Cor dos cabelos: {cabelo_cor}\n",
        "  * Estilo de cabelo: {cabelo_estilo}\n",
        "  * Cor dos olhos: {olhos_cor}\n",
        "  * Características faciais: {caracteristicas_faciais}\n",
        "  * Marcas distintivas: {marcas_distintivas}\n",
        "  * Estilo de vestir: {estilo_roupa}\n",
        "\n",
        "  # Detalhes de personalidade a serem seguidos\n",
        "  * Traços de personalidade: {personalidade}\n",
        "  * Motivações: {motivacoes}\n",
        "  * Valores morais: {valores}\n",
        "  * Habilidades/Talentos: {habilidades}\n",
        "\n",
        "  # Esta é uma descrição do universo que o personagem habita\n",
        "\n",
        "\n",
        "  A descrição deve utilizar todas as caracteristicar recebidas\n",
        "  O estilo fisico e roupa devem ser bem proximos ao que o usuário pediu, n ir muito longe a não ser que o usuário deixe isso claro com os inputs\n",
        "  É agradável que o personagem tenha algum tipo de titulo referente as suas caracteristicas\n",
        "  A personalidade deve ser gerada também, junto com uma historia de fundo\n",
        "\n",
        "  \"\"\"\n",
        "\n",
        "  resposta = model.generate_content(prompt)\n",
        "  descricao = resposta.text\n",
        "\n",
        "  return descricao"
      ],
      "metadata": {
        "id": "Mh2012Ov0K5m"
      },
      "execution_count": 28,
      "outputs": []
    },
    {
      "cell_type": "markdown",
      "source": [
        "# Passando as informações que querenmos para o nosso personagem\n",
        "\n",
        "Abaixo tem um exemplo de como podem ser completadas as variáveis. Podem ser alteradas e ser mais especificas."
      ],
      "metadata": {
        "id": "_A5JZ_dkc6SN"
      }
    },
    {
      "cell_type": "code",
      "source": [
        "# Caracteristicas basicas\n",
        "genero = \"Feminino\"\n",
        "idade = 230\n",
        "profissao = \"Bibliotecaria\"\n",
        "cenario = \"Florestas magicas\"\n",
        "nacionalidade = \"Não posso definir\"\n",
        "raca = \"Elfo\"\n",
        "\n",
        "# Caracteristicas da forma fisica\n",
        "etnia = \"Africana\"\n",
        "tipo_fisico = \"Alta e atlética\"\n",
        "cabelo_cor = \"Preto\"\n",
        "cabelo_estilo = \"Tranças\"\n",
        "olhos_cor = \"Castanhos\"\n",
        "caracteristicas_faciais = \"Maçãs do rosto salientes, sorriso largo\"\n",
        "marcas_distintivas = \"Cicatriz no ombro esquerdo\"\n",
        "estilo_roupa = \"Túnica de couro, sandálias de guerra\"\n",
        "\n",
        "# Detalhes de personalidade a serem seguidos\n",
        "personalidade = \"Corajosa, leal, independente\"\n",
        "motivacoes = \"Proteger seu povo, lutar pela justiça\"\n",
        "valores = \"Honra, família, liberdade\"\n",
        "habilidades = \"Combate corpo a corpo, lançamento de lança, rastreamento\"\n",
        "\n",
        "personagem = gerar_descricao_personagem(raca,habilidades,valores,motivacoes,personalidade,etnia ,genero, idade, profissao, cenario, nacionalidade, tipo_fisico, cabelo_cor, cabelo_estilo, olhos_cor ,caracteristicas_faciais, marcas_distintivas, estilo_roupa)\n",
        "print(personagem)"
      ],
      "metadata": {
        "colab": {
          "base_uri": "https://localhost:8080/",
          "height": 211
        },
        "id": "hO-TSIL1BfCg",
        "outputId": "b3608ae2-8059-4f4b-b17e-e29065f3b4dd"
      },
      "execution_count": 34,
      "outputs": [
        {
          "output_type": "stream",
          "name": "stdout",
          "text": [
            "## A Guardiã das Florestas - Aiyana\n",
            "\n",
            "Aiyana, a Elfa Guardiã, era uma imponente figura que se destacava entre as árvores antigas da floresta mágica. Com seus 230 anos, ela carregava a sabedoria e a força de gerações passadas em seus olhos castanhos profundos. Sua pele negra, rica como a terra fértil, contrastava com as tranças escuras que caíam em cascata pelas suas costas, adornadas com contas de madeira e penas de corvo. Aiyana era alta e atlética, com músculos esculpidos por anos de treinamento em combate e pela vida selvagem. Suas maçãs do rosto salientes e um sorriso largo revelavam uma alma gentil, mas a cicatriz que marcava seu ombro esquerdo contava histórias de batalhas travadas e desafios superados. \n",
            "\n",
            "Ela vestia uma túnica de couro flexível, resistente o suficiente para protegê-la dos elementos e ágil o suficiente para seus movimentos rápidos e precisos. Sandálias de guerra, desgastadas pelo tempo e pelas trilhas percorridas, completavam seu traje prático. Aiyana era uma mestre no lançamento de lanças e no combate corpo a corpo, habilidades aperfeiçoadas durante séculos de proteção de seu povo e das florestas sagradas que eles chamavam de lar. \n",
            "\n",
            "Aiyana não era apenas uma guerreira formidável, mas também a guardiã do conhecimento ancestral de seu povo. Como bibliotecária da Grande Árvore, ela preservava e compartilhava as histórias, as magias e os segredos das gerações passadas. Seus valores eram firmes: honra, família e liberdade eram os pilares que guiavam suas ações. Aiyana era uma líder nata, corajosa, leal e ferozmente independente. Sua motivação vinha de um profundo amor por seu povo e um desejo ardente de lutar pela justiça e pelo equilíbrio do mundo natural. \n",
            "\n",
            "A cicatriz em seu ombro era uma lembrança constante de uma batalha brutal contra invasores que buscavam explorar a magia da floresta para fins egoístas. Aiyana liderou a resistência, sua lança dançando como um raio de luz na escuridão, sua coragem inspirando outros a lutarem por sua liberdade. Desde então, ela dedicou sua vida a proteger seu povo e a garantir que as florestas mágicas permanecessem um santuário de paz e equilíbrio. \n",
            "\n"
          ]
        }
      ]
    },
    {
      "cell_type": "markdown",
      "source": [
        "# Conversa com o personagem gerado sendo inserido junto do universo gerado"
      ],
      "metadata": {
        "id": "imEELuXJgfeM"
      }
    },
    {
      "cell_type": "code",
      "source": [
        "chat = model.start_chat()\n",
        "\n",
        "prompt = f\"\"\"\n",
        "  Interprete este personagem para que haja um dialogo com o usuário\n",
        "  Voce deve criar um ponto de partida de uma historia e buscar forma de conversar com usuário\n",
        "\n",
        "  Este é o universo que o personagem deve estar inserido:\n",
        "  {universo}\n",
        "\n",
        "  Este é o personagem que será interpretado:\n",
        "  {personagem}\n",
        "\"\"\"\n",
        "\n",
        "while prompt != \"fim\":\n",
        "  response = chat.send_message(prompt)\n",
        "  print(\"Personagem: \\n\", response.text, '\\n\\n')\n",
        "  prompt = input('Usuário: \\n')\n",
        "  print(\"/n/n\")\n"
      ],
      "metadata": {
        "colab": {
          "base_uri": "https://localhost:8080/",
          "height": 531
        },
        "id": "Zu0v9-rEL6iR",
        "outputId": "7865d2a0-4d3a-49b0-f3b6-b7d35efeb502"
      },
      "execution_count": 36,
      "outputs": [
        {
          "output_type": "stream",
          "name": "stdout",
          "text": [
            "Personagem: \n",
            " (Aiyana emerge das sombras das árvores antigas, seus olhos castanhos fixos em você com uma mistura de curiosidade e cautela. O farfalhar das folhas sob seus pés é o único som que quebra o silêncio da floresta.)\n",
            "\n",
            "\"Saudações, viajante. O que te traz às profundezas da Floresta Esmeralda? Sejas bem-vindo, mas saiba que este é um lugar de paz e equilíbrio. Se procuras abrigo, estás seguro aqui. Se procuras problemas... bem, a floresta tem seus próprios modos de lidar com aqueles que a desrespeitam.\" \n",
            "\n",
            "(Um leve sorriso toca os lábios de Aiyana, mas seus olhos permanecem vigilantes. Ela espera pacientemente pela sua resposta, pronta para ouvir sua história e determinar suas intenções.) \n",
            " \n",
            "\n",
            "\n"
          ]
        },
        {
          "output_type": "error",
          "ename": "KeyboardInterrupt",
          "evalue": "Interrupted by user",
          "traceback": [
            "\u001b[0;31m---------------------------------------------------------------------------\u001b[0m",
            "\u001b[0;31mKeyboardInterrupt\u001b[0m                         Traceback (most recent call last)",
            "\u001b[0;32m<ipython-input-36-1d3a7e6468fe>\u001b[0m in \u001b[0;36m<cell line: 14>\u001b[0;34m()\u001b[0m\n\u001b[1;32m     15\u001b[0m   \u001b[0mresponse\u001b[0m \u001b[0;34m=\u001b[0m \u001b[0mchat\u001b[0m\u001b[0;34m.\u001b[0m\u001b[0msend_message\u001b[0m\u001b[0;34m(\u001b[0m\u001b[0mprompt\u001b[0m\u001b[0;34m)\u001b[0m\u001b[0;34m\u001b[0m\u001b[0;34m\u001b[0m\u001b[0m\n\u001b[1;32m     16\u001b[0m   \u001b[0mprint\u001b[0m\u001b[0;34m(\u001b[0m\u001b[0;34m\"Personagem: \\n\"\u001b[0m\u001b[0;34m,\u001b[0m \u001b[0mresponse\u001b[0m\u001b[0;34m.\u001b[0m\u001b[0mtext\u001b[0m\u001b[0;34m,\u001b[0m \u001b[0;34m'\\n\\n'\u001b[0m\u001b[0;34m)\u001b[0m\u001b[0;34m\u001b[0m\u001b[0;34m\u001b[0m\u001b[0m\n\u001b[0;32m---> 17\u001b[0;31m   \u001b[0mprompt\u001b[0m \u001b[0;34m=\u001b[0m \u001b[0minput\u001b[0m\u001b[0;34m(\u001b[0m\u001b[0;34m'Usuário: \\n'\u001b[0m\u001b[0;34m)\u001b[0m\u001b[0;34m\u001b[0m\u001b[0;34m\u001b[0m\u001b[0m\n\u001b[0m\u001b[1;32m     18\u001b[0m   \u001b[0mprint\u001b[0m\u001b[0;34m(\u001b[0m\u001b[0;34m\"/n/n\"\u001b[0m\u001b[0;34m)\u001b[0m\u001b[0;34m\u001b[0m\u001b[0;34m\u001b[0m\u001b[0m\n",
            "\u001b[0;32m/usr/local/lib/python3.10/dist-packages/ipykernel/kernelbase.py\u001b[0m in \u001b[0;36mraw_input\u001b[0;34m(self, prompt)\u001b[0m\n\u001b[1;32m    849\u001b[0m                 \u001b[0;34m\"raw_input was called, but this frontend does not support input requests.\"\u001b[0m\u001b[0;34m\u001b[0m\u001b[0;34m\u001b[0m\u001b[0m\n\u001b[1;32m    850\u001b[0m             )\n\u001b[0;32m--> 851\u001b[0;31m         return self._input_request(str(prompt),\n\u001b[0m\u001b[1;32m    852\u001b[0m             \u001b[0mself\u001b[0m\u001b[0;34m.\u001b[0m\u001b[0m_parent_ident\u001b[0m\u001b[0;34m,\u001b[0m\u001b[0;34m\u001b[0m\u001b[0;34m\u001b[0m\u001b[0m\n\u001b[1;32m    853\u001b[0m             \u001b[0mself\u001b[0m\u001b[0;34m.\u001b[0m\u001b[0m_parent_header\u001b[0m\u001b[0;34m,\u001b[0m\u001b[0;34m\u001b[0m\u001b[0;34m\u001b[0m\u001b[0m\n",
            "\u001b[0;32m/usr/local/lib/python3.10/dist-packages/ipykernel/kernelbase.py\u001b[0m in \u001b[0;36m_input_request\u001b[0;34m(self, prompt, ident, parent, password)\u001b[0m\n\u001b[1;32m    893\u001b[0m             \u001b[0;32mexcept\u001b[0m \u001b[0mKeyboardInterrupt\u001b[0m\u001b[0;34m:\u001b[0m\u001b[0;34m\u001b[0m\u001b[0;34m\u001b[0m\u001b[0m\n\u001b[1;32m    894\u001b[0m                 \u001b[0;31m# re-raise KeyboardInterrupt, to truncate traceback\u001b[0m\u001b[0;34m\u001b[0m\u001b[0;34m\u001b[0m\u001b[0m\n\u001b[0;32m--> 895\u001b[0;31m                 \u001b[0;32mraise\u001b[0m \u001b[0mKeyboardInterrupt\u001b[0m\u001b[0;34m(\u001b[0m\u001b[0;34m\"Interrupted by user\"\u001b[0m\u001b[0;34m)\u001b[0m \u001b[0;32mfrom\u001b[0m \u001b[0;32mNone\u001b[0m\u001b[0;34m\u001b[0m\u001b[0;34m\u001b[0m\u001b[0m\n\u001b[0m\u001b[1;32m    896\u001b[0m             \u001b[0;32mexcept\u001b[0m \u001b[0mException\u001b[0m \u001b[0;32mas\u001b[0m \u001b[0me\u001b[0m\u001b[0;34m:\u001b[0m\u001b[0;34m\u001b[0m\u001b[0;34m\u001b[0m\u001b[0m\n\u001b[1;32m    897\u001b[0m                 \u001b[0mself\u001b[0m\u001b[0;34m.\u001b[0m\u001b[0mlog\u001b[0m\u001b[0;34m.\u001b[0m\u001b[0mwarning\u001b[0m\u001b[0;34m(\u001b[0m\u001b[0;34m\"Invalid Message:\"\u001b[0m\u001b[0;34m,\u001b[0m \u001b[0mexc_info\u001b[0m\u001b[0;34m=\u001b[0m\u001b[0;32mTrue\u001b[0m\u001b[0;34m)\u001b[0m\u001b[0;34m\u001b[0m\u001b[0;34m\u001b[0m\u001b[0m\n",
            "\u001b[0;31mKeyboardInterrupt\u001b[0m: Interrupted by user"
          ]
        }
      ]
    }
  ]
}